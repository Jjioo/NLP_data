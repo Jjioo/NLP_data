{
  "nbformat": 4,
  "nbformat_minor": 0,
  "metadata": {
    "colab": {
      "provenance": []
    },
    "kernelspec": {
      "name": "python3",
      "display_name": "Python 3"
    },
    "language_info": {
      "name": "python"
    }
  },
  "cells": [
    {
      "cell_type": "code",
      "source": [
        "!git clone https://github.com/Jjioo/NLP_data"
      ],
      "metadata": {
        "colab": {
          "base_uri": "https://localhost:8080/"
        },
        "id": "rVrbFVc6u_8m",
        "outputId": "405b7f33-f4ff-461c-cfea-b8ef1eeb6755"
      },
      "execution_count": 3,
      "outputs": [
        {
          "output_type": "stream",
          "name": "stdout",
          "text": [
            "Cloning into 'NLP_data'...\n",
            "remote: Enumerating objects: 108, done.\u001b[K\n",
            "remote: Counting objects: 100% (108/108), done.\u001b[K\n",
            "remote: Compressing objects: 100% (88/88), done.\u001b[K\n",
            "remote: Total 108 (delta 20), reused 108 (delta 20), pack-reused 0\u001b[K\n",
            "Receiving objects: 100% (108/108), 60.44 KiB | 2.16 MiB/s, done.\n",
            "Resolving deltas: 100% (20/20), done.\n"
          ]
        }
      ]
    },
    {
      "cell_type": "code",
      "source": [
        "%cd ..\n",
        "%pwd"
      ],
      "metadata": {
        "colab": {
          "base_uri": "https://localhost:8080/",
          "height": 54
        },
        "id": "RdWJlCgo0TeY",
        "outputId": "d28f128a-3a5d-42be-c4fb-645cd1b37d9c"
      },
      "execution_count": 7,
      "outputs": [
        {
          "output_type": "stream",
          "name": "stdout",
          "text": [
            "/content/NLP_data\n"
          ]
        },
        {
          "output_type": "execute_result",
          "data": {
            "text/plain": [
              "'/content/NLP_data'"
            ],
            "application/vnd.google.colaboratory.intrinsic+json": {
              "type": "string"
            }
          },
          "metadata": {},
          "execution_count": 7
        }
      ]
    },
    {
      "cell_type": "code",
      "source": [
        "import pandas as pd\n",
        "\n",
        "# Load information about tasks and categories\n",
        "file_info = pd.read_csv('/content/NLP_data/csv_folder/file_information.csv')\n",
        "test_info = pd.read_csv('/content/NLP_data/csv_folder/test_info.csv')\n",
        "\n",
        "# Load text data\n",
        "txt_files = [doc for doc in os.listdir('/content/NLP_data/txt_data') if doc.endswith('.txt')]\n",
        "txt_content = [open(os.path.join('/content/NLP_data/txt_data', _file), encoding='utf-8', errors='ignore').read()\n",
        "               for _file in txt_files]\n"
      ],
      "metadata": {
        "id": "OXzUjXew9-pn"
      },
      "execution_count": 50,
      "outputs": []
    },
    {
      "cell_type": "markdown",
      "source": [
        "**Preprocess Text Data:**"
      ],
      "metadata": {
        "id": "XT1BSElV-BQq"
      }
    },
    {
      "cell_type": "code",
      "source": [
        "from tensorflow.keras.preprocessing.text import Tokenizer\n",
        "from tensorflow.keras.preprocessing.sequence import pad_sequences\n",
        "\n",
        "# Tokenize text data\n",
        "tokenizer = Tokenizer()\n",
        "tokenizer.fit_on_texts(txt_content)\n",
        "\n",
        "# Convert text data to sequences\n",
        "sequences = tokenizer.texts_to_sequences(txt_content)\n",
        "\n",
        "# Pad sequences to a fixed length\n",
        "max_seq_length = 100  # Adjust as needed\n",
        "padded_sequences = pad_sequences(sequences, maxlen=max_seq_length, padding='post', truncating='post')\n"
      ],
      "metadata": {
        "id": "LR2b8Ipl-Czz"
      },
      "execution_count": 51,
      "outputs": []
    },
    {
      "cell_type": "markdown",
      "source": [
        "**Train, Validation, and Test Sets:**"
      ],
      "metadata": {
        "id": "S6L5nu44-GIi"
      }
    },
    {
      "cell_type": "code",
      "source": [
        "# Assuming 'Category' column in file_info indicates plagiarism\n",
        "labels = (file_info['Category'] == 'non').astype(int)\n",
        "\n",
        "# Split data into train and test sets\n",
        "X_train, X_test, y_train, y_test = train_test_split(padded_sequences, labels, test_size=0.2, random_state=42)"
      ],
      "metadata": {
        "id": "ycAKbk8f-Hpr"
      },
      "execution_count": 55,
      "outputs": []
    },
    {
      "cell_type": "markdown",
      "source": [
        "**LSTM Model:**"
      ],
      "metadata": {
        "id": "EW3_pXbU5BU4"
      }
    },
    {
      "cell_type": "code",
      "source": [
        "\n",
        "# Define the LSTM model\n",
        "embedding_dim = 50\n",
        "vocab_size = len(tokenizer.word_index) + 1\n",
        "lstm_units = 100\n",
        "\n",
        "lstm_model = Sequential()\n",
        "lstm_model.add(Embedding(input_dim=vocab_size, output_dim=embedding_dim, input_length=max_seq_length))\n",
        "lstm_model.add(LSTM(units=lstm_units, return_sequences=True))  # Return sequences for more context\n",
        "lstm_model.add(LSTM(units=lstm_units))  # Additional LSTM layer\n",
        "lstm_model.add(Dense(1, activation='sigmoid'))\n",
        "\n",
        "# Compile the model\n",
        "lstm_model.compile(optimizer='adam', loss='binary_crossentropy', metrics=['accuracy'])\n",
        "\n",
        "# Print the summary of the model\n",
        "lstm_model.summary()\n",
        "\n",
        "# Train the model\n",
        "epochs = 20  # Increase the number of epochs\n",
        "batch_size = 32  # Adjust as needed\n",
        "lstm_model.fit(X_train, y_train, epochs=epochs, validation_split=0.1, batch_size=batch_size)"
      ],
      "metadata": {
        "colab": {
          "base_uri": "https://localhost:8080/"
        },
        "id": "l5jwzAMxxB7L",
        "outputId": "d65e47c1-8bc4-48f3-d04f-b62849098fe7"
      },
      "execution_count": 56,
      "outputs": [
        {
          "output_type": "stream",
          "name": "stdout",
          "text": [
            "Model: \"sequential_10\"\n",
            "_________________________________________________________________\n",
            " Layer (type)                Output Shape              Param #   \n",
            "=================================================================\n",
            " embedding_9 (Embedding)     (None, 100, 50)           107450    \n",
            "                                                                 \n",
            " lstm_7 (LSTM)               (None, 100, 100)          60400     \n",
            "                                                                 \n",
            " lstm_8 (LSTM)               (None, 100)               80400     \n",
            "                                                                 \n",
            " dense_9 (Dense)             (None, 1)                 101       \n",
            "                                                                 \n",
            "=================================================================\n",
            "Total params: 248351 (970.12 KB)\n",
            "Trainable params: 248351 (970.12 KB)\n",
            "Non-trainable params: 0 (0.00 Byte)\n",
            "_________________________________________________________________\n",
            "Epoch 1/20\n",
            "3/3 [==============================] - 7s 620ms/step - loss: 0.6903 - accuracy: 0.5278 - val_loss: 0.6952 - val_accuracy: 0.5000\n",
            "Epoch 2/20\n",
            "3/3 [==============================] - 0s 157ms/step - loss: 0.6742 - accuracy: 0.6667 - val_loss: 0.7032 - val_accuracy: 0.5000\n",
            "Epoch 3/20\n",
            "3/3 [==============================] - 0s 161ms/step - loss: 0.6427 - accuracy: 0.6667 - val_loss: 0.7562 - val_accuracy: 0.5000\n",
            "Epoch 4/20\n",
            "3/3 [==============================] - 0s 157ms/step - loss: 0.6186 - accuracy: 0.6667 - val_loss: 0.8306 - val_accuracy: 0.5000\n",
            "Epoch 5/20\n",
            "3/3 [==============================] - 0s 168ms/step - loss: 0.6047 - accuracy: 0.6667 - val_loss: 0.7547 - val_accuracy: 0.5000\n",
            "Epoch 6/20\n",
            "3/3 [==============================] - 1s 172ms/step - loss: 0.5836 - accuracy: 0.6667 - val_loss: 0.7726 - val_accuracy: 0.5000\n",
            "Epoch 7/20\n",
            "3/3 [==============================] - 1s 188ms/step - loss: 0.5518 - accuracy: 0.6667 - val_loss: 0.8283 - val_accuracy: 0.5000\n",
            "Epoch 8/20\n",
            "3/3 [==============================] - 1s 258ms/step - loss: 0.4872 - accuracy: 0.6667 - val_loss: 1.0471 - val_accuracy: 0.5000\n",
            "Epoch 9/20\n",
            "3/3 [==============================] - 1s 243ms/step - loss: 0.3689 - accuracy: 0.7361 - val_loss: 2.1074 - val_accuracy: 0.5000\n",
            "Epoch 10/20\n",
            "3/3 [==============================] - 1s 264ms/step - loss: 0.2272 - accuracy: 0.9167 - val_loss: 1.6420 - val_accuracy: 0.2500\n",
            "Epoch 11/20\n",
            "3/3 [==============================] - 1s 258ms/step - loss: 0.2062 - accuracy: 0.9028 - val_loss: 3.1043 - val_accuracy: 0.3750\n",
            "Epoch 12/20\n",
            "3/3 [==============================] - 1s 217ms/step - loss: 0.1873 - accuracy: 0.9028 - val_loss: 3.6922 - val_accuracy: 0.2500\n",
            "Epoch 13/20\n",
            "3/3 [==============================] - 0s 164ms/step - loss: 0.1437 - accuracy: 0.9444 - val_loss: 4.1032 - val_accuracy: 0.3750\n",
            "Epoch 14/20\n",
            "3/3 [==============================] - 1s 175ms/step - loss: 0.1758 - accuracy: 0.9444 - val_loss: 3.6699 - val_accuracy: 0.3750\n",
            "Epoch 15/20\n",
            "3/3 [==============================] - 1s 252ms/step - loss: 0.1258 - accuracy: 0.9306 - val_loss: 1.8541 - val_accuracy: 0.2500\n",
            "Epoch 16/20\n",
            "3/3 [==============================] - 1s 252ms/step - loss: 0.1933 - accuracy: 0.9167 - val_loss: 1.7866 - val_accuracy: 0.2500\n",
            "Epoch 17/20\n",
            "3/3 [==============================] - 1s 260ms/step - loss: 0.1355 - accuracy: 0.9583 - val_loss: 2.2424 - val_accuracy: 0.2500\n",
            "Epoch 18/20\n",
            "3/3 [==============================] - 1s 264ms/step - loss: 0.0879 - accuracy: 0.9722 - val_loss: 2.5488 - val_accuracy: 0.2500\n",
            "Epoch 19/20\n",
            "3/3 [==============================] - 1s 254ms/step - loss: 0.0702 - accuracy: 0.9722 - val_loss: 2.7641 - val_accuracy: 0.2500\n",
            "Epoch 20/20\n",
            "3/3 [==============================] - 1s 161ms/step - loss: 0.0503 - accuracy: 0.9861 - val_loss: 2.9340 - val_accuracy: 0.2500\n"
          ]
        },
        {
          "output_type": "execute_result",
          "data": {
            "text/plain": [
              "<keras.src.callbacks.History at 0x7cad069df610>"
            ]
          },
          "metadata": {},
          "execution_count": 56
        }
      ]
    },
    {
      "cell_type": "markdown",
      "source": [
        "**CNN Model:**"
      ],
      "metadata": {
        "id": "j89gcnTA5QFt"
      }
    },
    {
      "cell_type": "code",
      "source": [
        "# Define the CNN model\n",
        "embedding_dim = 50\n",
        "vocab_size = len(tokenizer.word_index) + 1\n",
        "num_filters = 64\n",
        "filter_size = 3\n",
        "\n",
        "cnn_model = Sequential()\n",
        "cnn_model.add(Embedding(input_dim=vocab_size, output_dim=embedding_dim, input_length=max_seq_length))\n",
        "cnn_model.add(Conv1D(filters=num_filters, kernel_size=filter_size, activation='relu'))\n",
        "cnn_model.add(GlobalMaxPooling1D())\n",
        "cnn_model.add(Dense(1, activation='sigmoid'))\n",
        "\n",
        "# Compile the model\n",
        "cnn_model.compile(optimizer='adam', loss='binary_crossentropy', metrics=['accuracy'])\n",
        "\n",
        "# Print the summary of the model\n",
        "cnn_model.summary()\n",
        "\n",
        "# Train the model\n",
        "epochs = 20\n",
        "batch_size = 32\n",
        "cnn_model.fit(X_train, y_train, epochs=epochs, validation_split=0.1, batch_size=batch_size)"
      ],
      "metadata": {
        "colab": {
          "base_uri": "https://localhost:8080/"
        },
        "id": "Ipb9nZ3Z5D6v",
        "outputId": "c3701eea-461e-4ee9-8328-48e7c84f7c7e"
      },
      "execution_count": 57,
      "outputs": [
        {
          "output_type": "stream",
          "name": "stdout",
          "text": [
            "Model: \"sequential_11\"\n",
            "_________________________________________________________________\n",
            " Layer (type)                Output Shape              Param #   \n",
            "=================================================================\n",
            " embedding_10 (Embedding)    (None, 100, 50)           107450    \n",
            "                                                                 \n",
            " conv1d_2 (Conv1D)           (None, 98, 64)            9664      \n",
            "                                                                 \n",
            " global_max_pooling1d_2 (Gl  (None, 64)                0         \n",
            " obalMaxPooling1D)                                               \n",
            "                                                                 \n",
            " dense_10 (Dense)            (None, 1)                 65        \n",
            "                                                                 \n",
            "=================================================================\n",
            "Total params: 117179 (457.73 KB)\n",
            "Trainable params: 117179 (457.73 KB)\n",
            "Non-trainable params: 0 (0.00 Byte)\n",
            "_________________________________________________________________\n",
            "Epoch 1/20\n",
            "3/3 [==============================] - 1s 110ms/step - loss: 0.6803 - accuracy: 0.6667 - val_loss: 0.6941 - val_accuracy: 0.5000\n",
            "Epoch 2/20\n",
            "3/3 [==============================] - 0s 32ms/step - loss: 0.6510 - accuracy: 0.6667 - val_loss: 0.6950 - val_accuracy: 0.5000\n",
            "Epoch 3/20\n",
            "3/3 [==============================] - 0s 24ms/step - loss: 0.6298 - accuracy: 0.6667 - val_loss: 0.6984 - val_accuracy: 0.5000\n",
            "Epoch 4/20\n",
            "3/3 [==============================] - 0s 24ms/step - loss: 0.6136 - accuracy: 0.6667 - val_loss: 0.7021 - val_accuracy: 0.5000\n",
            "Epoch 5/20\n",
            "3/3 [==============================] - 0s 34ms/step - loss: 0.5980 - accuracy: 0.6667 - val_loss: 0.7055 - val_accuracy: 0.5000\n",
            "Epoch 6/20\n",
            "3/3 [==============================] - 0s 32ms/step - loss: 0.5859 - accuracy: 0.6667 - val_loss: 0.7093 - val_accuracy: 0.5000\n",
            "Epoch 7/20\n",
            "3/3 [==============================] - 0s 25ms/step - loss: 0.5732 - accuracy: 0.6667 - val_loss: 0.7122 - val_accuracy: 0.5000\n",
            "Epoch 8/20\n",
            "3/3 [==============================] - 0s 38ms/step - loss: 0.5627 - accuracy: 0.6667 - val_loss: 0.7166 - val_accuracy: 0.5000\n",
            "Epoch 9/20\n",
            "3/3 [==============================] - 0s 25ms/step - loss: 0.5509 - accuracy: 0.6667 - val_loss: 0.7203 - val_accuracy: 0.5000\n",
            "Epoch 10/20\n",
            "3/3 [==============================] - 0s 24ms/step - loss: 0.5402 - accuracy: 0.6667 - val_loss: 0.7230 - val_accuracy: 0.5000\n",
            "Epoch 11/20\n",
            "3/3 [==============================] - 0s 44ms/step - loss: 0.5292 - accuracy: 0.6667 - val_loss: 0.7257 - val_accuracy: 0.5000\n",
            "Epoch 12/20\n",
            "3/3 [==============================] - 0s 43ms/step - loss: 0.5183 - accuracy: 0.6667 - val_loss: 0.7307 - val_accuracy: 0.5000\n",
            "Epoch 13/20\n",
            "3/3 [==============================] - 0s 44ms/step - loss: 0.5079 - accuracy: 0.6667 - val_loss: 0.7368 - val_accuracy: 0.5000\n",
            "Epoch 14/20\n",
            "3/3 [==============================] - 0s 44ms/step - loss: 0.4976 - accuracy: 0.6667 - val_loss: 0.7442 - val_accuracy: 0.5000\n",
            "Epoch 15/20\n",
            "3/3 [==============================] - 0s 41ms/step - loss: 0.4870 - accuracy: 0.6667 - val_loss: 0.7505 - val_accuracy: 0.5000\n",
            "Epoch 16/20\n",
            "3/3 [==============================] - 0s 42ms/step - loss: 0.4762 - accuracy: 0.6667 - val_loss: 0.7572 - val_accuracy: 0.5000\n",
            "Epoch 17/20\n",
            "3/3 [==============================] - 0s 33ms/step - loss: 0.4651 - accuracy: 0.6667 - val_loss: 0.7633 - val_accuracy: 0.5000\n",
            "Epoch 18/20\n",
            "3/3 [==============================] - 0s 49ms/step - loss: 0.4539 - accuracy: 0.6667 - val_loss: 0.7665 - val_accuracy: 0.5000\n",
            "Epoch 19/20\n",
            "3/3 [==============================] - 0s 44ms/step - loss: 0.4421 - accuracy: 0.7083 - val_loss: 0.7690 - val_accuracy: 0.5000\n",
            "Epoch 20/20\n",
            "3/3 [==============================] - 0s 36ms/step - loss: 0.4306 - accuracy: 0.7500 - val_loss: 0.7716 - val_accuracy: 0.5000\n"
          ]
        },
        {
          "output_type": "execute_result",
          "data": {
            "text/plain": [
              "<keras.src.callbacks.History at 0x7cad0bc57f10>"
            ]
          },
          "metadata": {},
          "execution_count": 57
        }
      ]
    },
    {
      "cell_type": "code",
      "source": [
        "# Save LSTM model\n",
        "lstm_model.save('lstm_model.h5')\n",
        "# Save CNN model\n",
        "cnn_model.save('cnn_model.h5')\n"
      ],
      "metadata": {
        "colab": {
          "base_uri": "https://localhost:8080/"
        },
        "id": "smStKAjI_399",
        "outputId": "7081330c-aa65-4d79-87f0-ebf4c87126db"
      },
      "execution_count": 58,
      "outputs": [
        {
          "output_type": "stream",
          "name": "stderr",
          "text": [
            "/usr/local/lib/python3.10/dist-packages/keras/src/engine/training.py:3103: UserWarning: You are saving your model as an HDF5 file via `model.save()`. This file format is considered legacy. We recommend using instead the native Keras format, e.g. `model.save('my_model.keras')`.\n",
            "  saving_api.save_model(\n"
          ]
        }
      ]
    },
    {
      "cell_type": "code",
      "source": [
        "!git remote -v"
      ],
      "metadata": {
        "colab": {
          "base_uri": "https://localhost:8080/"
        },
        "id": "w78xs1t6AuV2",
        "outputId": "542cc09a-4b87-49a7-9a9a-c8e07183f656"
      },
      "execution_count": 62,
      "outputs": [
        {
          "output_type": "stream",
          "name": "stdout",
          "text": [
            "origin\thttps://github.com/Jjioo/NLP_data (fetch)\n",
            "origin\thttps://github.com/Jjioo/NLP_data (push)\n"
          ]
        }
      ]
    },
    {
      "cell_type": "code",
      "source": [
        "!git remote set-url origin git@github.com:Jjioo/NLP_data.git"
      ],
      "metadata": {
        "id": "Jf976XPpA3K9"
      },
      "execution_count": 63,
      "outputs": []
    },
    {
      "cell_type": "code",
      "source": [
        "from sklearn.metrics import confusion_matrix, roc_curve, auc, precision_recall_curve, f1_score, accuracy_score\n",
        "import matplotlib.pyplot as plt\n",
        "\n",
        "# Make predictions on the test set\n",
        "y_pred = (lstm_model.predict(X_test) > 0.5).astype(\"int32\")\n",
        "\n",
        "# Confusion Matrix\n",
        "conf_matrix = confusion_matrix(y_test, y_pred)\n",
        "\n",
        "\n",
        "# ROC Curve\n",
        "fpr, tpr, _ = roc_curve(y_test, lstm_model.predict(X_test))\n",
        "roc_auc = auc(fpr, tpr)\n",
        "\n",
        "# Precision-Recall Curve\n",
        "precision, recall, _ = precision_recall_curve(y_test, lstm_model.predict(X_test))\n",
        "\n",
        "# Calculate F1 Score and Accuracy\n",
        "f1 = f1_score(y_test, y_pred)\n",
        "accuracy = accuracy_score(y_test, y_pred)\n",
        "\n",
        "# Plotting\n",
        "plt.figure(figsize=(16, 5))\n",
        "\n",
        "# Confusion Matrix\n",
        "plt.subplot(1, 3, 1)\n",
        "plt.imshow(conf_matrix, cmap='Blues', interpolation='None')\n",
        "plt.title('Confusion Matrix')\n",
        "plt.colorbar()\n",
        "plt.xlabel('Predicted Label')\n",
        "plt.ylabel('True Label')\n",
        "\n",
        "# ROC Curve\n",
        "plt.subplot(1, 3, 2)\n",
        "plt.plot(fpr, tpr, color='darkorange', lw=2, label='ROC curve (area = {:.2f})'.format(roc_auc))\n",
        "plt.plot([0, 1], [0, 1], color='navy', lw=2, linestyle='--')\n",
        "plt.title('ROC Curve')\n",
        "plt.xlabel('False Positive Rate')\n",
        "plt.ylabel('True Positive Rate')\n",
        "plt.legend(loc=\"lower right\")\n",
        "\n",
        "# Precision-Recall Curve\n",
        "plt.subplot(1, 3, 3)\n",
        "plt.plot(recall, precision, color='green', lw=2, label='Precision-Recall curve')\n",
        "plt.title('Precision-Recall Curve')\n",
        "plt.xlabel('Recall')\n",
        "plt.ylabel('Precision')\n",
        "plt.legend(loc=\"lower right\")\n",
        "\n",
        "# Show metrics\n",
        "plt.tight_layout()\n",
        "plt.show()\n",
        "\n"
      ],
      "metadata": {
        "colab": {
          "base_uri": "https://localhost:8080/",
          "height": 324
        },
        "id": "SeOHpbnwAJ1w",
        "outputId": "ad1a054d-8d22-48fb-d642-4299f949e685"
      },
      "execution_count": 75,
      "outputs": [
        {
          "output_type": "stream",
          "name": "stdout",
          "text": [
            "1/1 [==============================] - 0s 77ms/step\n",
            "1/1 [==============================] - 0s 165ms/step\n",
            "1/1 [==============================] - 0s 109ms/step\n"
          ]
        },
        {
          "output_type": "display_data",
          "data": {
            "text/plain": [
              "<Figure size 1600x500 with 4 Axes>"
            ],
            "image/png": "[encoded data removed]"
          },
          "metadata": {}
        }
      ]
    },
    {
      "cell_type": "code",
      "source": [
        "from prettytable import PrettyTable\n",
        "from sklearn.metrics import precision_score, recall_score\n",
        "\n",
        "# Make predictions on the test set for both models\n",
        "y_pred_lstm = (lstm_model.predict(X_test) > 0.5).astype(\"int32\")\n",
        "y_pred_cnn = (cnn_model.predict(X_test) > 0.5).astype(\"int32\")\n",
        "\n",
        "# Calculate metrics for both models\n",
        "metrics_lstm = {\n",
        "    'Precision': precision_score(y_test, y_pred_lstm),\n",
        "    'Recall': recall_score(y_test, y_pred_lstm),\n",
        "    'F1 Score': f1_score(y_test, y_pred_lstm),\n",
        "    'Accuracy': accuracy_score(y_test, y_pred_lstm)\n",
        "}\n",
        "\n",
        "metrics_cnn = {\n",
        "    'Precision': precision_score(y_test, y_pred_cnn),\n",
        "    'Recall': recall_score(y_test, y_pred_cnn),\n",
        "    'F1 Score': f1_score(y_test, y_pred_cnn),\n",
        "    'Accuracy': accuracy_score(y_test, y_pred_cnn)\n",
        "}\n",
        "\n",
        "# Confusion Matrix for both models\n",
        "conf_matrix_lstm = confusion_matrix(y_test, y_pred_lstm)\n",
        "conf_matrix_cnn = confusion_matrix(y_test, y_pred_cnn)\n",
        "\n",
        "# Display metrics in a table\n",
        "table = PrettyTable()\n",
        "table.field_names = [\"Metric\", \"LSTM Model\", \"CNN Model\"]\n",
        "table.add_row([\"Precision\", metrics_lstm['Precision'], metrics_cnn['Precision']])\n",
        "table.add_row([\"Recall\", metrics_lstm['Recall'], metrics_cnn['Recall']])\n",
        "table.add_row([\"F1 Score\", metrics_lstm['F1 Score'], metrics_cnn['F1 Score']])\n",
        "table.add_row([\"Accuracy\", metrics_lstm['Accuracy'], metrics_cnn['Accuracy']])\n",
        "\n",
        "print(\"Metrics for LSTM and CNN Models:\")\n",
        "print(table)\n",
        "\n",
        "# Display Confusion Matrix for both models\n",
        "print(\"\\nConfusion Matrix for LSTM Model:\")\n",
        "print(conf_matrix_lstm)\n",
        "\n",
        "print(\"\\nConfusion Matrix for CNN Model:\")\n",
        "print(conf_matrix_cnn)\n"
      ],
      "metadata": {
        "colab": {
          "base_uri": "https://localhost:8080/"
        },
        "id": "6aA1E0y0DvjG",
        "outputId": "35657cc9-9bbf-4678-9868-f90d66b33219"
      },
      "execution_count": 77,
      "outputs": [
        {
          "output_type": "stream",
          "name": "stdout",
          "text": [
            "1/1 [==============================] - 0s 96ms/step\n",
            "1/1 [==============================] - 0s 66ms/step\n",
            "Metrics for LSTM and CNN Models:\n",
            "+-----------+---------------------+-----------+\n",
            "|   Metric  |      LSTM Model     | CNN Model |\n",
            "+-----------+---------------------+-----------+\n",
            "| Precision |         0.4         |    0.0    |\n",
            "|   Recall  |         0.2         |    0.0    |\n",
            "|  F1 Score | 0.26666666666666666 |    0.0    |\n",
            "|  Accuracy |         0.45        |    0.5    |\n",
            "+-----------+---------------------+-----------+\n",
            "\n",
            "Confusion Matrix for LSTM Model:\n",
            "[[7 3]\n",
            " [8 2]]\n",
            "\n",
            "Confusion Matrix for CNN Model:\n",
            "[[10  0]\n",
            " [10  0]]\n"
          ]
        },
        {
          "output_type": "stream",
          "name": "stderr",
          "text": [
            "/usr/local/lib/python3.10/dist-packages/sklearn/metrics/_classification.py:1344: UndefinedMetricWarning: Precision is ill-defined and being set to 0.0 due to no predicted samples. Use `zero_division` parameter to control this behavior.\n",
            "  _warn_prf(average, modifier, msg_start, len(result))\n"
          ]
        }
      ]
    },
    {
      "cell_type": "code",
      "source": [
        "from google.colab import drive\n",
        "drive.mount('/content/drive')\n"
      ],
      "metadata": {
        "colab": {
          "base_uri": "https://localhost:8080/"
        },
        "id": "51UXUT8SEH73",
        "outputId": "256d2445-bcf5-446b-8257-f20fd5dd757a"
      },
      "execution_count": 78,
      "outputs": [
        {
          "output_type": "stream",
          "name": "stdout",
          "text": [
            "Mounted at /content/drive\n"
          ]
        }
      ]
    },
    {
      "cell_type": "code",
      "source": [
        "!mv lstm_model.h5 /content/drive/MyDrive/\n",
        "!mv cnn_model.h5 /content/drive/MyDrive/"
      ],
      "metadata": {
        "id": "5nNFdS3NFMl7"
      },
      "execution_count": 79,
      "outputs": []
    },
    {
      "cell_type": "code",
      "source": [
        "from tensorflow.keras.models import load_model\n",
        "\n",
        "# Load LSTM model\n",
        "lstm_model = load_model('/content/drive/MyDrive/lstm_model.h5')\n",
        "\n",
        "# Load CNN model\n",
        "cnn_model = load_model('/content/drive/MyDrive/cnn_model.h5')\n"
      ],
      "metadata": {
        "id": "mVDdDy8fFgpT"
      },
      "execution_count": 80,
      "outputs": []
    },
    {
      "cell_type": "code",
      "source": [
        "import nltk\n",
        "nltk.download('punkt')\n",
        "\n",
        "from nltk.tokenize import word_tokenize\n",
        "from nltk.corpus import stopwords\n",
        "\n",
        "def preprocess_file_content(file_path):\n",
        "    with open(file_path, 'r', encoding='utf-8', errors='ignore') as file:\n",
        "        content = file.read()\n",
        "\n",
        "    # Tokenization and removing stop words (adjust as needed)\n",
        "    tokens = word_tokenize(content)\n",
        "    tokens = [word.lower() for word in tokens if word.isalpha() and word.lower() not in stopwords.words('english')]\n",
        "\n",
        "    # Join tokens back into a string\n",
        "    preprocessed_content = ' '.join(tokens)\n",
        "\n",
        "    return preprocessed_content\n"
      ],
      "metadata": {
        "colab": {
          "base_uri": "https://localhost:8080/"
        },
        "id": "m_bN9K5MHPgT",
        "outputId": "9d8fbbca-4fd8-4a2a-c3d8-9217d5daf63f"
      },
      "execution_count": 87,
      "outputs": [
        {
          "output_type": "stream",
          "name": "stderr",
          "text": [
            "[nltk_data] Downloading package punkt to /root/nltk_data...\n",
            "[nltk_data]   Unzipping tokenizers/punkt.zip.\n"
          ]
        }
      ]
    },
    {
      "cell_type": "code",
      "source": [
        "import nltk\n",
        "nltk.download('stopwords')\n"
      ],
      "metadata": {
        "colab": {
          "base_uri": "https://localhost:8080/"
        },
        "id": "NXIPriQeGrsp",
        "outputId": "1536da8f-1f35-4c8f-be18-7958351d6c86"
      },
      "execution_count": 89,
      "outputs": [
        {
          "output_type": "stream",
          "name": "stderr",
          "text": [
            "[nltk_data] Downloading package stopwords to /root/nltk_data...\n",
            "[nltk_data]   Unzipping corpora/stopwords.zip.\n"
          ]
        },
        {
          "output_type": "execute_result",
          "data": {
            "text/plain": [
              "True"
            ]
          },
          "metadata": {},
          "execution_count": 89
        }
      ]
    },
    {
      "cell_type": "code",
      "source": [
        "import nltk\n",
        "nltk.download('punkt')\n",
        "nltk.download('stopwords')\n",
        "\n",
        "from nltk.tokenize import word_tokenize\n",
        "from nltk.corpus import stopwords\n",
        "\n",
        "def preprocess_file_content(file_path):\n",
        "    with open(file_path, 'r', encoding='utf-8', errors='ignore') as file:\n",
        "        content = file.read()\n",
        "\n",
        "    # Tokenization and removing stop words (adjust as needed)\n",
        "    tokens = word_tokenize(content)\n",
        "    tokens = [word.lower() for word in tokens if word.isalpha() and word.lower() not in stopwords.words('english')]\n",
        "\n",
        "    # Join tokens back into a string\n",
        "    preprocessed_content = ' '.join(tokens)\n",
        "\n",
        "    return preprocessed_content\n"
      ],
      "metadata": {
        "colab": {
          "base_uri": "https://localhost:8080/"
        },
        "id": "DcQPc8iBHH2p",
        "outputId": "ea442f35-861a-4f8b-c21c-d2e21919d171"
      },
      "execution_count": 90,
      "outputs": [
        {
          "output_type": "stream",
          "name": "stderr",
          "text": [
            "[nltk_data] Downloading package punkt to /root/nltk_data...\n",
            "[nltk_data]   Package punkt is already up-to-date!\n",
            "[nltk_data] Downloading package stopwords to /root/nltk_data...\n",
            "[nltk_data]   Package stopwords is already up-to-date!\n"
          ]
        }
      ]
    },
    {
      "cell_type": "code",
      "source": [
        "# Assuming you have loaded your LSTM and CNN models as lstm_model and cnn_model\n",
        "\n",
        "# Define the plagiarism threshold\n",
        "plagiarism_threshold = 0.5\n",
        "\n",
        "# Path to your test file\n",
        "test_file_path = 'test.txt'\n",
        "\n",
        "# Preprocess the content of the test file\n",
        "test_file_content = preprocess_file_content(test_file_path)\n",
        "\n",
        "# Convert the preprocessed content to sequences and pad\n",
        "test_sequence = tokenizer.texts_to_sequences([test_file_content])\n",
        "padded_sequence = pad_sequences(test_sequence, maxlen=max_seq_length, padding='post')\n",
        "\n",
        "# Make predictions with LSTM model\n",
        "lstm_prediction = lstm_model.predict(padded_sequence)\n",
        "\n",
        "# Make predictions with CNN model\n",
        "cnn_prediction = cnn_model.predict(padded_sequence)\n",
        "\n",
        "# Determine plagiarism status based on the threshold\n",
        "lstm_result = \"Plagiarism\" if lstm_prediction > plagiarism_threshold else \"Not Plagiarism\"\n",
        "cnn_result = \"Plagiarism\" if cnn_prediction > plagiarism_threshold else \"Not Plagiarism\"\n",
        "\n",
        "# Print the results\n",
        "print(\"LSTM Model Prediction:\", lstm_result)\n",
        "print(\"CNN Model Prediction:\", cnn_result)\n"
      ],
      "metadata": {
        "colab": {
          "base_uri": "https://localhost:8080/"
        },
        "id": "i2MMes8HH8q_",
        "outputId": "2e104527-54e2-42ec-ad42-5c183a135ae7"
      },
      "execution_count": 91,
      "outputs": [
        {
          "output_type": "stream",
          "name": "stdout",
          "text": [
            "1/1 [==============================] - 2s 2s/step\n",
            "1/1 [==============================] - 0s 232ms/step\n",
            "LSTM Model Prediction: Not Plagiarism\n",
            "CNN Model Prediction: Not Plagiarism\n"
          ]
        }
      ]
    },
    {
      "cell_type": "code",
      "source": [],
      "metadata": {
        "id": "I50bdf0OIF_a"
      },
      "execution_count": null,
      "outputs": []
    }
  ]
}